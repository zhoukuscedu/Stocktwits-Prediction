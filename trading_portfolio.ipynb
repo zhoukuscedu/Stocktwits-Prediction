{
 "cells": [
  {
   "cell_type": "code",
   "execution_count": 1,
   "metadata": {},
   "outputs": [
    {
     "name": "stderr",
     "output_type": "stream",
     "text": [
      "Using TensorFlow backend.\n"
     ]
    }
   ],
   "source": [
    "%run project_functions.ipynb"
   ]
  },
  {
   "cell_type": "code",
   "execution_count": 13,
   "metadata": {},
   "outputs": [],
   "source": []
  },
  {
   "cell_type": "code",
   "execution_count": 14,
   "metadata": {},
   "outputs": [
    {
     "name": "stdout",
     "output_type": "stream",
     "text": [
      "Best Parameters: \n",
      "{'C': 100000.0, 'penalty': 'l1'}\n",
      "Best Parameters: \n",
      "{'C': 0.1, 'penalty': 'l2'}\n",
      "Best Parameters: \n",
      "{'C': 1, 'penalty': 'l2'}\n",
      "Best Parameters: \n",
      "{'C': 0.1, 'penalty': 'l2'}\n",
      "Best Parameters: \n",
      "{'C': 0.1, 'penalty': 'l2'}\n"
     ]
    }
   ],
   "source": [
    "portfolio = ['FB', 'BA', 'NKE', 'GE', 'CSCO']\n",
    "algo = 'Linear SVM'\n",
    "capital = 120000\n",
    "metric = 'close'\n",
    "num_features = 500\n",
    "period = 3\n",
    "\n",
    "capital = trade_portfolio(stock_portfolio = portfolio, algo_of_choice = algo, capital = capital , metric = metric, num_features = num_features, period = period)"
   ]
  },
  {
   "cell_type": "code",
   "execution_count": 15,
   "metadata": {},
   "outputs": [
    {
     "data": {
      "text/plain": [
       "{'FB': 25112.301623315598,\n",
       " 'BA': 24636.901215175596,\n",
       " 'NKE': 23281.445902027095,\n",
       " 'GE': 25692.95506470754,\n",
       " 'CSCO': 22725.19178898232}"
      ]
     },
     "execution_count": 15,
     "metadata": {},
     "output_type": "execute_result"
    }
   ],
   "source": [
    "capital"
   ]
  },
  {
   "cell_type": "code",
   "execution_count": 17,
   "metadata": {},
   "outputs": [],
   "source": [
    "total_cap = sum(capital.values())"
   ]
  },
  {
   "cell_type": "code",
   "execution_count": 18,
   "metadata": {},
   "outputs": [
    {
     "data": {
      "text/plain": [
       "121448.79559420815"
      ]
     },
     "execution_count": 18,
     "metadata": {},
     "output_type": "execute_result"
    }
   ],
   "source": [
    "total_cap"
   ]
  },
  {
   "cell_type": "code",
   "execution_count": null,
   "metadata": {},
   "outputs": [],
   "source": []
  }
 ],
 "metadata": {
  "kernelspec": {
   "display_name": "Python 3",
   "language": "python",
   "name": "python3"
  },
  "language_info": {
   "codemirror_mode": {
    "name": "ipython",
    "version": 3
   },
   "file_extension": ".py",
   "mimetype": "text/x-python",
   "name": "python",
   "nbconvert_exporter": "python",
   "pygments_lexer": "ipython3",
   "version": "3.7.6"
  }
 },
 "nbformat": 4,
 "nbformat_minor": 4
}
