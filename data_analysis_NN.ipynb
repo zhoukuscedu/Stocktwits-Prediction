{
 "cells": [
  {
   "cell_type": "code",
   "execution_count": 77,
   "metadata": {},
   "outputs": [],
   "source": [
    "%run project_functions.ipynb"
   ]
  },
  {
   "cell_type": "code",
   "execution_count": 2,
   "metadata": {},
   "outputs": [],
   "source": [
    "file_name = 'FB.txt'\n",
    "csv_name = 'FB.csv'"
   ]
  },
  {
   "cell_type": "markdown",
   "metadata": {},
   "source": [
    "# Classification"
   ]
  },
  {
   "cell_type": "code",
   "execution_count": 3,
   "metadata": {},
   "outputs": [],
   "source": [
    "#Features\n",
    "company = stock_twits_text_parser(file_name)\n",
    "company_metrics = stock_twits_metrics(company, 3, file_name)\n",
    "\n",
    "#Labels\n",
    "company_return = return_over_period_T(csv_name,3)\n",
    "\n",
    "#Cleaned Data\n",
    "agg_data = feature_selector(company_metrics, company_return, 'close_return', 25, 1000, 'default')\n",
    "company_data = split_data(agg_data, 0.7, 'all', 'close_return', 'bin', 'default')\n",
    "\n",
    "#Split\n",
    "X_train = company_data['X_train']\n",
    "Y_train = company_data['Y_train']\n",
    "X_test = company_data['X_test']\n",
    "Y_test = company_data['Y_test']"
   ]
  },
  {
   "cell_type": "code",
   "execution_count": 4,
   "metadata": {},
   "outputs": [
    {
     "name": "stdout",
     "output_type": "stream",
     "text": [
      "WARNING:tensorflow:From C:\\Anaconda3\\lib\\site-packages\\tensorflow\\python\\ops\\nn_impl.py:180: add_dispatch_support.<locals>.wrapper (from tensorflow.python.ops.array_ops) is deprecated and will be removed in a future version.\n",
      "Instructions for updating:\n",
      "Use tf.where in 2.0, which has the same broadcast rule as np.where\n",
      "WARNING:tensorflow:From C:\\Anaconda3\\lib\\site-packages\\keras\\backend\\tensorflow_backend.py:422: The name tf.global_variables is deprecated. Please use tf.compat.v1.global_variables instead.\n",
      "\n",
      "Epoch 1/100\n",
      "238/238 [==============================] - 1s 4ms/step - loss: 0.6891 - accuracy: 0.5252\n",
      "Epoch 2/100\n",
      "238/238 [==============================] - 0s 612us/step - loss: 0.6741 - accuracy: 0.5588\n",
      "Epoch 3/100\n",
      "238/238 [==============================] - 0s 641us/step - loss: 0.6585 - accuracy: 0.6218\n",
      "Epoch 4/100\n",
      "238/238 [==============================] - 0s 627us/step - loss: 0.6338 - accuracy: 0.7395\n",
      "Epoch 5/100\n",
      "238/238 [==============================] - 0s 620us/step - loss: 0.5870 - accuracy: 0.8025\n",
      "Epoch 6/100\n",
      "238/238 [==============================] - 0s 501us/step - loss: 0.4961 - accuracy: 0.8655\n",
      "Epoch 7/100\n",
      "238/238 [==============================] - 0s 417us/step - loss: 0.3884 - accuracy: 0.8866\n",
      "Epoch 8/100\n",
      "238/238 [==============================] - 0s 411us/step - loss: 0.2515 - accuracy: 0.9454\n",
      "Epoch 9/100\n",
      "238/238 [==============================] - ETA: 0s - loss: 0.1745 - accuracy: 0.94 - 0s 712us/step - loss: 0.1704 - accuracy: 0.9538\n",
      "Epoch 10/100\n",
      "238/238 [==============================] - 0s 794us/step - loss: 0.1152 - accuracy: 0.9706\n",
      "Epoch 11/100\n",
      "238/238 [==============================] - 0s 606us/step - loss: 0.0802 - accuracy: 0.9832\n",
      "Epoch 12/100\n",
      "238/238 [==============================] - 0s 524us/step - loss: 0.0556 - accuracy: 0.9916\n",
      "Epoch 13/100\n",
      "238/238 [==============================] - 0s 881us/step - loss: 0.0304 - accuracy: 1.0000\n",
      "Epoch 14/100\n",
      "238/238 [==============================] - 0s 662us/step - loss: 0.0228 - accuracy: 1.0000\n",
      "Epoch 15/100\n",
      "238/238 [==============================] - 0s 817us/step - loss: 0.0203 - accuracy: 1.0000\n",
      "Epoch 16/100\n",
      "238/238 [==============================] - 0s 855us/step - loss: 0.0117 - accuracy: 1.0000\n",
      "Epoch 17/100\n",
      "238/238 [==============================] - 0s 687us/step - loss: 0.0109 - accuracy: 1.0000\n",
      "Epoch 18/100\n",
      "238/238 [==============================] - 0s 687us/step - loss: 0.0070 - accuracy: 1.0000\n",
      "Epoch 19/100\n",
      "238/238 [==============================] - 0s 650us/step - loss: 0.0067 - accuracy: 1.0000\n",
      "Epoch 20/100\n",
      "238/238 [==============================] - 0s 486us/step - loss: 0.0053 - accuracy: 1.0000\n",
      "Epoch 21/100\n",
      "238/238 [==============================] - 0s 436us/step - loss: 0.0042 - accuracy: 1.0000\n",
      "Epoch 22/100\n",
      "238/238 [==============================] - 0s 696us/step - loss: 0.0035 - accuracy: 1.0000\n",
      "Epoch 23/100\n",
      "238/238 [==============================] - 0s 901us/step - loss: 0.0030 - accuracy: 1.0000\n",
      "Epoch 24/100\n",
      "238/238 [==============================] - 0s 1ms/step - loss: 0.0027 - accuracy: 1.0000\n",
      "Epoch 25/100\n",
      "238/238 [==============================] - 0s 1ms/step - loss: 0.0025 - accuracy: 1.0000\n",
      "Epoch 26/100\n",
      "238/238 [==============================] - 0s 478us/step - loss: 0.0023 - accuracy: 1.0000\n",
      "Epoch 27/100\n",
      "238/238 [==============================] - 0s 721us/step - loss: 0.0019 - accuracy: 1.0000\n",
      "Epoch 28/100\n",
      "238/238 [==============================] - 0s 497us/step - loss: 0.0017 - accuracy: 1.0000\n",
      "Epoch 29/100\n",
      "238/238 [==============================] - 0s 680us/step - loss: 0.0015 - accuracy: 1.0000\n",
      "Epoch 30/100\n",
      "238/238 [==============================] - 0s 499us/step - loss: 0.0014 - accuracy: 1.0000\n",
      "Epoch 31/100\n",
      "238/238 [==============================] - 0s 462us/step - loss: 0.0013 - accuracy: 1.0000\n",
      "Epoch 32/100\n",
      "238/238 [==============================] - 0s 714us/step - loss: 0.0012 - accuracy: 1.0000\n",
      "Epoch 33/100\n",
      "238/238 [==============================] - ETA: 0s - loss: 0.0012 - accuracy: 1.00 - 0s 457us/step - loss: 0.0011 - accuracy: 1.0000\n",
      "Epoch 34/100\n",
      "238/238 [==============================] - 0s 679us/step - loss: 9.8658e-04 - accuracy: 1.0000\n",
      "Epoch 35/100\n",
      "238/238 [==============================] - 0s 1ms/step - loss: 9.0537e-04 - accuracy: 1.0000\n",
      "Epoch 36/100\n",
      "238/238 [==============================] - 0s 478us/step - loss: 8.6559e-04 - accuracy: 1.0000\n",
      "Epoch 37/100\n",
      "238/238 [==============================] - 0s 519us/step - loss: 7.8933e-04 - accuracy: 1.0000\n",
      "Epoch 38/100\n",
      "238/238 [==============================] - 0s 838us/step - loss: 7.3185e-04 - accuracy: 1.0000\n",
      "Epoch 39/100\n",
      "238/238 [==============================] - 0s 1ms/step - loss: 6.8629e-04 - accuracy: 1.0000\n",
      "Epoch 40/100\n",
      "238/238 [==============================] - 0s 746us/step - loss: 6.4994e-04 - accuracy: 1.0000\n",
      "Epoch 41/100\n",
      "238/238 [==============================] - 0s 633us/step - loss: 5.9745e-04 - accuracy: 1.0000\n",
      "Epoch 42/100\n",
      "238/238 [==============================] - 0s 503us/step - loss: 5.6830e-04 - accuracy: 1.0000\n",
      "Epoch 43/100\n",
      "238/238 [==============================] - 0s 572us/step - loss: 5.3216e-04 - accuracy: 1.0000\n",
      "Epoch 44/100\n",
      "238/238 [==============================] - 0s 769us/step - loss: 5.1661e-04 - accuracy: 1.0000\n",
      "Epoch 45/100\n",
      "238/238 [==============================] - 0s 551us/step - loss: 4.7853e-04 - accuracy: 1.0000\n",
      "Epoch 46/100\n",
      "238/238 [==============================] - 0s 583us/step - loss: 4.4771e-04 - accuracy: 1.0000\n",
      "Epoch 47/100\n",
      "238/238 [==============================] - 0s 755us/step - loss: 4.2673e-04 - accuracy: 1.0000\n",
      "Epoch 48/100\n",
      "238/238 [==============================] - 0s 679us/step - loss: 4.0176e-04 - accuracy: 1.0000\n",
      "Epoch 49/100\n",
      "238/238 [==============================] - 0s 658us/step - loss: 3.8189e-04 - accuracy: 1.0000\n",
      "Epoch 50/100\n",
      "238/238 [==============================] - 0s 901us/step - loss: 3.6261e-04 - accuracy: 1.0000\n",
      "Epoch 51/100\n",
      "238/238 [==============================] - 0s 448us/step - loss: 3.4728e-04 - accuracy: 1.0000\n",
      "Epoch 52/100\n",
      "238/238 [==============================] - 0s 488us/step - loss: 3.2656e-04 - accuracy: 1.0000\n",
      "Epoch 53/100\n",
      "238/238 [==============================] - 0s 511us/step - loss: 3.1397e-04 - accuracy: 1.0000\n",
      "Epoch 54/100\n",
      "238/238 [==============================] - 0s 2ms/step - loss: 3.0548e-04 - accuracy: 1.0000\n",
      "Epoch 55/100\n",
      "238/238 [==============================] - 0s 629us/step - loss: 2.8402e-04 - accuracy: 1.0000\n",
      "Epoch 56/100\n",
      "238/238 [==============================] - 0s 876us/step - loss: 2.7259e-04 - accuracy: 1.0000\n",
      "Epoch 57/100\n",
      "238/238 [==============================] - 0s 716us/step - loss: 2.5956e-04 - accuracy: 1.0000\n",
      "Epoch 58/100\n",
      "238/238 [==============================] - 0s 627us/step - loss: 2.5502e-04 - accuracy: 1.0000\n",
      "Epoch 59/100\n",
      "238/238 [==============================] - 0s 777us/step - loss: 2.4054e-04 - accuracy: 1.0000\n",
      "Epoch 60/100\n",
      "238/238 [==============================] - 0s 914us/step - loss: 2.3051e-04 - accuracy: 1.0000\n",
      "Epoch 61/100\n",
      "238/238 [==============================] - 1s 3ms/step - loss: 2.1813e-04 - accuracy: 1.0000\n",
      "Epoch 62/100\n",
      "238/238 [==============================] - 0s 1ms/step - loss: 2.1013e-04 - accuracy: 1.0000\n",
      "Epoch 63/100\n",
      "238/238 [==============================] - 0s 986us/step - loss: 2.0367e-04 - accuracy: 1.0000\n",
      "Epoch 64/100\n",
      "238/238 [==============================] - 0s 885us/step - loss: 1.9346e-04 - accuracy: 1.0000\n",
      "Epoch 65/100\n",
      "238/238 [==============================] - 0s 1ms/step - loss: 1.8498e-04 - accuracy: 1.0000\n",
      "Epoch 66/100\n",
      "238/238 [==============================] - 0s 436us/step - loss: 1.7797e-04 - accuracy: 1.0000\n",
      "Epoch 67/100\n",
      "238/238 [==============================] - 0s 687us/step - loss: 1.7188e-04 - accuracy: 1.0000\n",
      "Epoch 68/100\n",
      "238/238 [==============================] - 0s 1ms/step - loss: 1.6553e-04 - accuracy: 1.0000\n",
      "Epoch 69/100\n",
      "238/238 [==============================] - 0s 499us/step - loss: 1.5977e-04 - accuracy: 1.0000\n",
      "Epoch 70/100\n",
      "238/238 [==============================] - 0s 717us/step - loss: 1.5364e-04 - accuracy: 1.0000\n",
      "Epoch 71/100\n",
      "238/238 [==============================] - 0s 717us/step - loss: 1.4816e-04 - accuracy: 1.0000\n",
      "Epoch 72/100\n"
     ]
    },
    {
     "name": "stdout",
     "output_type": "stream",
     "text": [
      "238/238 [==============================] - 0s 886us/step - loss: 1.4353e-04 - accuracy: 1.0000\n",
      "Epoch 73/100\n",
      "238/238 [==============================] - 0s 1ms/step - loss: 1.3847e-04 - accuracy: 1.0000\n",
      "Epoch 74/100\n",
      "238/238 [==============================] - 0s 875us/step - loss: 1.3491e-04 - accuracy: 1.0000\n",
      "Epoch 75/100\n",
      "238/238 [==============================] - 0s 402us/step - loss: 1.3108e-04 - accuracy: 1.0000\n",
      "Epoch 76/100\n",
      "238/238 [==============================] - 0s 691us/step - loss: 1.2554e-04 - accuracy: 1.0000\n",
      "Epoch 77/100\n",
      "238/238 [==============================] - 0s 1ms/step - loss: 1.2121e-04 - accuracy: 1.0000\n",
      "Epoch 78/100\n",
      "238/238 [==============================] - 0s 1ms/step - loss: 1.1684e-04 - accuracy: 1.0000\n",
      "Epoch 79/100\n",
      "238/238 [==============================] - 0s 813us/step - loss: 1.1453e-04 - accuracy: 1.0000\n",
      "Epoch 80/100\n",
      "238/238 [==============================] - 0s 510us/step - loss: 1.1110e-04 - accuracy: 1.0000\n",
      "Epoch 81/100\n",
      "238/238 [==============================] - 0s 440us/step - loss: 1.0567e-04 - accuracy: 1.0000\n",
      "Epoch 82/100\n",
      "238/238 [==============================] - 0s 1ms/step - loss: 1.0533e-04 - accuracy: 1.0000\n",
      "Epoch 83/100\n",
      "238/238 [==============================] - 0s 440us/step - loss: 9.8814e-05 - accuracy: 1.0000\n",
      "Epoch 84/100\n",
      "238/238 [==============================] - 0s 1ms/step - loss: 9.6535e-05 - accuracy: 1.0000\n",
      "Epoch 85/100\n",
      "238/238 [==============================] - 0s 854us/step - loss: 9.3611e-05 - accuracy: 1.0000\n",
      "Epoch 86/100\n",
      "238/238 [==============================] - 0s 515us/step - loss: 9.0925e-05 - accuracy: 1.0000\n",
      "Epoch 87/100\n",
      "238/238 [==============================] - 0s 826us/step - loss: 8.8158e-05 - accuracy: 1.0000\n",
      "Epoch 88/100\n",
      "238/238 [==============================] - 0s 1ms/step - loss: 8.5458e-05 - accuracy: 1.0000\n",
      "Epoch 89/100\n",
      "238/238 [==============================] - 0s 700us/step - loss: 8.2802e-05 - accuracy: 1.0000\n",
      "Epoch 90/100\n",
      "238/238 [==============================] - 0s 624us/step - loss: 8.0280e-05 - accuracy: 1.0000\n",
      "Epoch 91/100\n",
      "238/238 [==============================] - 0s 412us/step - loss: 7.8145e-05 - accuracy: 1.0000\n",
      "Epoch 92/100\n",
      "238/238 [==============================] - 0s 402us/step - loss: 7.6717e-05 - accuracy: 1.0000\n",
      "Epoch 93/100\n",
      "238/238 [==============================] - 0s 398us/step - loss: 7.3956e-05 - accuracy: 1.0000\n",
      "Epoch 94/100\n",
      "238/238 [==============================] - 0s 390us/step - loss: 7.1591e-05 - accuracy: 1.0000\n",
      "Epoch 95/100\n",
      "238/238 [==============================] - 0s 800us/step - loss: 6.9730e-05 - accuracy: 1.0000\n",
      "Epoch 96/100\n",
      "238/238 [==============================] - 0s 423us/step - loss: 6.8039e-05 - accuracy: 1.0000\n",
      "Epoch 97/100\n",
      "238/238 [==============================] - 0s 620us/step - loss: 6.6884e-05 - accuracy: 1.0000\n",
      "Epoch 98/100\n",
      "238/238 [==============================] - 0s 608us/step - loss: 6.4037e-05 - accuracy: 1.0000\n",
      "Epoch 99/100\n",
      "238/238 [==============================] - 0s 404us/step - loss: 6.3124e-05 - accuracy: 1.0000\n",
      "Epoch 100/100\n",
      "238/238 [==============================] - 0s 412us/step - loss: 6.1474e-05 - accuracy: 1.0000\n"
     ]
    }
   ],
   "source": [
    "#Build Model\n",
    "model = build_neural_network_cf(1003)\n",
    "\n",
    "#Fit Model\n",
    "model.fit(X_train, Y_train, epochs=100, batch_size=10)\n",
    "\n",
    "#Predict\n",
    "pred_train = model.predict_classes(X_train)\n",
    "pred_test = model.predict_classes(X_test)"
   ]
  },
  {
   "cell_type": "code",
   "execution_count": 5,
   "metadata": {},
   "outputs": [
    {
     "name": "stdout",
     "output_type": "stream",
     "text": [
      "Model: \"sequential_1\"\n",
      "_________________________________________________________________\n",
      "Layer (type)                 Output Shape              Param #   \n",
      "=================================================================\n",
      "dense_1 (Dense)              (None, 64)                64256     \n",
      "_________________________________________________________________\n",
      "dense_2 (Dense)              (None, 64)                4160      \n",
      "_________________________________________________________________\n",
      "dense_3 (Dense)              (None, 32)                2080      \n",
      "_________________________________________________________________\n",
      "dense_4 (Dense)              (None, 1)                 33        \n",
      "=================================================================\n",
      "Total params: 70,529\n",
      "Trainable params: 70,529\n",
      "Non-trainable params: 0\n",
      "_________________________________________________________________\n"
     ]
    }
   ],
   "source": [
    "model.summary()"
   ]
  },
  {
   "cell_type": "code",
   "execution_count": 6,
   "metadata": {},
   "outputs": [],
   "source": [
    "#Generate Confusion Matrices\n",
    "confusion_train = confusion_matrix(Y_train, pred_train)\n",
    "confusion_test = confusion_matrix(Y_test, pred_test)"
   ]
  },
  {
   "cell_type": "code",
   "execution_count": 7,
   "metadata": {},
   "outputs": [
    {
     "data": {
      "image/png": "[encoded data removed]",
      "text/plain": [
       "<Figure size 432x288 with 2 Axes>"
      ]
     },
     "metadata": {
      "needs_background": "light"
     },
     "output_type": "display_data"
    }
   ],
   "source": [
    "#Plot Confusion Matrix for Training Data\n",
    "plot_confusion_matrix(confusion_train, \"Training\")"
   ]
  },
  {
   "cell_type": "code",
   "execution_count": 8,
   "metadata": {},
   "outputs": [
    {
     "data": {
      "image/png": "[encoded data removed]",
      "text/plain": [
       "<Figure size 432x288 with 2 Axes>"
      ]
     },
     "metadata": {
      "needs_background": "light"
     },
     "output_type": "display_data"
    }
   ],
   "source": [
    "#Plot Confusion Matrix for Test Data\n",
    "plot_confusion_matrix(confusion_test, \"Test\")"
   ]
  },
  {
   "cell_type": "code",
   "execution_count": 9,
   "metadata": {},
   "outputs": [
    {
     "data": {
      "text/html": [
       "<div>\n",
       "<style scoped>\n",
       "    .dataframe tbody tr th:only-of-type {\n",
       "        vertical-align: middle;\n",
       "    }\n",
       "\n",
       "    .dataframe tbody tr th {\n",
       "        vertical-align: top;\n",
       "    }\n",
       "\n",
       "    .dataframe thead th {\n",
       "        text-align: right;\n",
       "    }\n",
       "</style>\n",
       "<table border=\"1\" class=\"dataframe\">\n",
       "  <thead>\n",
       "    <tr style=\"text-align: right;\">\n",
       "      <th></th>\n",
       "      <th>Recall</th>\n",
       "      <th>Precision</th>\n",
       "      <th>F1 Score</th>\n",
       "      <th>Accuracy</th>\n",
       "    </tr>\n",
       "    <tr>\n",
       "      <th>Dataset</th>\n",
       "      <th></th>\n",
       "      <th></th>\n",
       "      <th></th>\n",
       "      <th></th>\n",
       "    </tr>\n",
       "  </thead>\n",
       "  <tbody>\n",
       "    <tr>\n",
       "      <th>Training</th>\n",
       "      <td>1.000000</td>\n",
       "      <td>1.000000</td>\n",
       "      <td>1.000000</td>\n",
       "      <td>1.00000</td>\n",
       "    </tr>\n",
       "    <tr>\n",
       "      <th>Test</th>\n",
       "      <td>0.872727</td>\n",
       "      <td>0.786885</td>\n",
       "      <td>0.827586</td>\n",
       "      <td>0.80198</td>\n",
       "    </tr>\n",
       "  </tbody>\n",
       "</table>\n",
       "</div>"
      ],
      "text/plain": [
       "            Recall  Precision  F1 Score  Accuracy\n",
       "Dataset                                          \n",
       "Training  1.000000   1.000000  1.000000   1.00000\n",
       "Test      0.872727   0.786885  0.827586   0.80198"
      ]
     },
     "execution_count": 9,
     "metadata": {},
     "output_type": "execute_result"
    }
   ],
   "source": [
    "#Calculate Metrics\n",
    "table = create_metrics_table(Y_train, pred_train, Y_test, pred_test)\n",
    "table"
   ]
  },
  {
   "cell_type": "code",
   "execution_count": 10,
   "metadata": {},
   "outputs": [
    {
     "data": {
      "image/png": "[encoded data removed]",
      "text/plain": [
       "<Figure size 432x288 with 1 Axes>"
      ]
     },
     "metadata": {
      "needs_background": "light"
     },
     "output_type": "display_data"
    }
   ],
   "source": [
    "#Generate ROC Curves for Training\n",
    "pred_train_prob = model.predict(X_train)\n",
    "FPR_train, TPR_train, Threshold_train = roc_curve(Y_train, pred_train_prob)\n",
    "\n",
    "#Plot ROC Curve for Training Data\n",
    "plot_ROC_curve(FPR_train, TPR_train, \"Training\")"
   ]
  },
  {
   "cell_type": "code",
   "execution_count": 11,
   "metadata": {},
   "outputs": [
    {
     "data": {
      "image/png": "[encoded data removed]",
      "text/plain": [
       "<Figure size 432x288 with 1 Axes>"
      ]
     },
     "metadata": {
      "needs_background": "light"
     },
     "output_type": "display_data"
    }
   ],
   "source": [
    "#Generate ROC Curves for Test\n",
    "pred_test_prob = model.predict(X_test)\n",
    "FPR_test, TPR_test, Threshold_test = roc_curve(Y_test, pred_test_prob)\n",
    "\n",
    "#Plot ROC Curve for Training Data\n",
    "plot_ROC_curve(FPR_test, TPR_test, \"Test\")"
   ]
  },
  {
   "cell_type": "markdown",
   "metadata": {},
   "source": [
    "# Regression"
   ]
  },
  {
   "cell_type": "code",
   "execution_count": 12,
   "metadata": {},
   "outputs": [],
   "source": [
    "#Features\n",
    "company = stock_twits_text_parser(file_name)\n",
    "company_metrics = stock_twits_metrics(company, 3, file_name)\n",
    "\n",
    "#Labels\n",
    "company_return = return_over_period_T(csv_name,3)\n",
    "\n",
    "#Cleaned Data\n",
    "agg_data = feature_selector(company_metrics, company_return, 'close_return', 25, 1000,'default')\n",
    "company_data = split_data(agg_data, 0.7, 'all', 'close_return', 'cont', 'default')\n",
    "\n",
    "#Split\n",
    "X_train_reg = company_data['X_train']\n",
    "Y_train_reg = company_data['Y_train']\n",
    "X_test_reg = company_data['X_test']\n",
    "Y_test_reg = company_data['Y_test']"
   ]
  },
  {
   "cell_type": "code",
   "execution_count": 34,
   "metadata": {},
   "outputs": [],
   "source": [
    "reg_model = build_neural_network_reg(1003)"
   ]
  },
  {
   "cell_type": "code",
   "execution_count": 35,
   "metadata": {},
   "outputs": [
    {
     "name": "stdout",
     "output_type": "stream",
     "text": [
      "Model: \"sequential_4\"\n",
      "_________________________________________________________________\n",
      "Layer (type)                 Output Shape              Param #   \n",
      "=================================================================\n",
      "dense_13 (Dense)             (None, 128)               128512    \n",
      "_________________________________________________________________\n",
      "dense_14 (Dense)             (None, 256)               33024     \n",
      "_________________________________________________________________\n",
      "dense_15 (Dense)             (None, 256)               65792     \n",
      "_________________________________________________________________\n",
      "dense_16 (Dense)             (None, 1)                 257       \n",
      "=================================================================\n",
      "Total params: 227,585\n",
      "Trainable params: 227,585\n",
      "Non-trainable params: 0\n",
      "_________________________________________________________________\n"
     ]
    }
   ],
   "source": [
    "reg_model.summary()"
   ]
  },
  {
   "cell_type": "code",
   "execution_count": 69,
   "metadata": {},
   "outputs": [
    {
     "name": "stdout",
     "output_type": "stream",
     "text": [
      "Epoch 1/100\n",
      "238/238 [==============================] - 0s 599us/step - loss: 0.0055 - mean_absolute_error: 0.0055\n",
      "Epoch 2/100\n",
      "238/238 [==============================] - 0s 553us/step - loss: 0.0039 - mean_absolute_error: 0.0039\n",
      "Epoch 3/100\n",
      "238/238 [==============================] - 0s 1ms/step - loss: 0.0037 - mean_absolute_error: 0.0037\n",
      "Epoch 4/100\n",
      "238/238 [==============================] - 0s 734us/step - loss: 0.0037 - mean_absolute_error: 0.0037\n",
      "Epoch 5/100\n",
      "238/238 [==============================] - 0s 1ms/step - loss: 0.0034 - mean_absolute_error: 0.0034\n",
      "Epoch 6/100\n",
      "238/238 [==============================] - 0s 820us/step - loss: 0.0032 - mean_absolute_error: 0.0032\n",
      "Epoch 7/100\n",
      "238/238 [==============================] - 0s 1ms/step - loss: 0.0026 - mean_absolute_error: 0.0026\n",
      "Epoch 8/100\n",
      "238/238 [==============================] - 0s 1ms/step - loss: 0.0027 - mean_absolute_error: 0.0027\n",
      "Epoch 9/100\n",
      "238/238 [==============================] - 0s 1ms/step - loss: 0.0027 - mean_absolute_error: 0.0027\n",
      "Epoch 10/100\n",
      "238/238 [==============================] - 0s 981us/step - loss: 0.0025 - mean_absolute_error: 0.0025\n",
      "Epoch 11/100\n",
      "238/238 [==============================] - 0s 1ms/step - loss: 0.0022 - mean_absolute_error: 0.0022\n",
      "Epoch 12/100\n",
      "238/238 [==============================] - 0s 960us/step - loss: 0.0026 - mean_absolute_error: 0.0026\n",
      "Epoch 13/100\n",
      "238/238 [==============================] - 0s 853us/step - loss: 0.0025 - mean_absolute_error: 0.0025\n",
      "Epoch 14/100\n",
      "238/238 [==============================] - 0s 872us/step - loss: 0.0021 - mean_absolute_error: 0.0021\n",
      "Epoch 15/100\n",
      "238/238 [==============================] - 0s 683us/step - loss: 0.0021 - mean_absolute_error: 0.0021\n",
      "Epoch 16/100\n",
      "238/238 [==============================] - 0s 1ms/step - loss: 0.0020 - mean_absolute_error: 0.0020\n",
      "Epoch 17/100\n",
      "238/238 [==============================] - 0s 1ms/step - loss: 0.0017 - mean_absolute_error: 0.0017\n",
      "Epoch 18/100\n",
      "238/238 [==============================] - 0s 1ms/step - loss: 0.0019 - mean_absolute_error: 0.0019\n",
      "Epoch 19/100\n",
      "238/238 [==============================] - 0s 909us/step - loss: 0.0019 - mean_absolute_error: 0.0019\n",
      "Epoch 20/100\n",
      "238/238 [==============================] - 0s 1ms/step - loss: 0.0018 - mean_absolute_error: 0.0018\n",
      "Epoch 21/100\n",
      "238/238 [==============================] - 0s 1ms/step - loss: 0.0017 - mean_absolute_error: 0.0017\n",
      "Epoch 22/100\n",
      "238/238 [==============================] - 0s 915us/step - loss: 0.0018 - mean_absolute_error: 0.0018\n",
      "Epoch 23/100\n",
      "238/238 [==============================] - 0s 802us/step - loss: 0.0020 - mean_absolute_error: 0.0020\n",
      "Epoch 24/100\n",
      "238/238 [==============================] - 1s 2ms/step - loss: 0.0016 - mean_absolute_error: 0.0016\n",
      "Epoch 25/100\n",
      "238/238 [==============================] - 1s 3ms/step - loss: 0.0016 - mean_absolute_error: 0.0016\n",
      "Epoch 26/100\n",
      "238/238 [==============================] - 1s 3ms/step - loss: 0.0015 - mean_absolute_error: 0.0015\n",
      "Epoch 27/100\n",
      "238/238 [==============================] - 0s 1ms/step - loss: 0.0015 - mean_absolute_error: 0.0015A: 0s - loss: 0.0016 - mean_absolute_error: 0.00\n",
      "Epoch 28/100\n",
      "238/238 [==============================] - 0s 2ms/step - loss: 0.0014 - mean_absolute_error: 0.0014A: 0s - loss: 0.0030 - mean_absolute_error: 0\n",
      "Epoch 29/100\n",
      "238/238 [==============================] - 0s 1ms/step - loss: 0.0016 - mean_absolute_error: 0.0016\n",
      "Epoch 30/100\n",
      "238/238 [==============================] - 0s 678us/step - loss: 0.0014 - mean_absolute_error: 0.0014\n",
      "Epoch 31/100\n",
      "238/238 [==============================] - 0s 838us/step - loss: 0.0012 - mean_absolute_error: 0.0012\n",
      "Epoch 32/100\n",
      "238/238 [==============================] - 0s 950us/step - loss: 0.0016 - mean_absolute_error: 0.0016\n",
      "Epoch 33/100\n",
      "238/238 [==============================] - 0s 1ms/step - loss: 0.0018 - mean_absolute_error: 0.0018\n",
      "Epoch 34/100\n",
      "238/238 [==============================] - 0s 1ms/step - loss: 0.0013 - mean_absolute_error: 0.0013\n",
      "Epoch 35/100\n",
      "238/238 [==============================] - 0s 905us/step - loss: 0.0013 - mean_absolute_error: 0.0013\n",
      "Epoch 36/100\n",
      "238/238 [==============================] - 0s 872us/step - loss: 0.0015 - mean_absolute_error: 0.0015\n",
      "Epoch 37/100\n",
      "238/238 [==============================] - 0s 901us/step - loss: 0.0016 - mean_absolute_error: 0.0016\n",
      "Epoch 38/100\n",
      "238/238 [==============================] - 0s 1ms/step - loss: 0.0014 - mean_absolute_error: 0.0014\n",
      "Epoch 39/100\n",
      "238/238 [==============================] - 0s 796us/step - loss: 0.0013 - mean_absolute_error: 0.0013\n",
      "Epoch 40/100\n",
      "238/238 [==============================] - 0s 2ms/step - loss: 0.0017 - mean_absolute_error: 0.0017\n",
      "Epoch 41/100\n",
      "238/238 [==============================] - 0s 1ms/step - loss: 0.0016 - mean_absolute_error: 0.0016\n",
      "Epoch 42/100\n",
      "238/238 [==============================] - 0s 970us/step - loss: 0.0015 - mean_absolute_error: 0.0015\n",
      "Epoch 43/100\n",
      "238/238 [==============================] - 0s 918us/step - loss: 0.0015 - mean_absolute_error: 0.0015\n",
      "Epoch 44/100\n",
      "238/238 [==============================] - 0s 859us/step - loss: 0.0013 - mean_absolute_error: 0.0013\n",
      "Epoch 45/100\n",
      "238/238 [==============================] - 0s 1ms/step - loss: 0.0012 - mean_absolute_error: 0.0012\n",
      "Epoch 46/100\n",
      "238/238 [==============================] - 0s 1ms/step - loss: 0.0013 - mean_absolute_error: 0.0013\n",
      "Epoch 47/100\n",
      "238/238 [==============================] - 0s 817us/step - loss: 0.0012 - mean_absolute_error: 0.0012\n",
      "Epoch 48/100\n",
      "238/238 [==============================] - 0s 697us/step - loss: 9.8808e-04 - mean_absolute_error: 9.8808e-04\n",
      "Epoch 49/100\n",
      "238/238 [==============================] - 0s 814us/step - loss: 9.5863e-04 - mean_absolute_error: 9.5863e-04\n",
      "Epoch 50/100\n",
      "238/238 [==============================] - 0s 1ms/step - loss: 0.0011 - mean_absolute_error: 0.0011\n",
      "Epoch 51/100\n",
      "238/238 [==============================] - 0s 1ms/step - loss: 0.0012 - mean_absolute_error: 0.0012\n",
      "Epoch 52/100\n",
      "238/238 [==============================] - 0s 865us/step - loss: 9.6372e-04 - mean_absolute_error: 9.6372e-04\n",
      "Epoch 53/100\n",
      "238/238 [==============================] - 0s 708us/step - loss: 0.0012 - mean_absolute_error: 0.0012\n",
      "Epoch 54/100\n",
      "238/238 [==============================] - 0s 838us/step - loss: 9.7224e-04 - mean_absolute_error: 9.7224e-04\n",
      "Epoch 55/100\n",
      "238/238 [==============================] - 0s 1ms/step - loss: 0.0014 - mean_absolute_error: 0.0014\n",
      "Epoch 56/100\n",
      "238/238 [==============================] - 0s 800us/step - loss: 0.0014 - mean_absolute_error: 0.0014\n",
      "Epoch 57/100\n",
      "238/238 [==============================] - 0s 781us/step - loss: 0.0012 - mean_absolute_error: 0.0012\n",
      "Epoch 58/100\n",
      "238/238 [==============================] - ETA: 0s - loss: 0.0013 - mean_absolute_error: 0.001 - 0s 738us/step - loss: 0.0014 - mean_absolute_error: 0.0014\n",
      "Epoch 59/100\n",
      "238/238 [==============================] - 0s 675us/step - loss: 0.0013 - mean_absolute_error: 0.0013\n",
      "Epoch 60/100\n",
      "238/238 [==============================] - 0s 2ms/step - loss: 0.0011 - mean_absolute_error: 0.0011\n",
      "Epoch 61/100\n",
      "238/238 [==============================] - 0s 2ms/step - loss: 0.0011 - mean_absolute_error: 0.0011    \n",
      "Epoch 62/100\n",
      "238/238 [==============================] - 0s 870us/step - loss: 9.7962e-04 - mean_absolute_error: 9.7962e-04\n",
      "Epoch 63/100\n",
      "238/238 [==============================] - 1s 3ms/step - loss: 0.0011 - mean_absolute_error: 0.0011 \n",
      "Epoch 64/100\n",
      "238/238 [==============================] - 0s 862us/step - loss: 8.8308e-04 - mean_absolute_error: 8.8308e-04\n",
      "Epoch 65/100\n",
      "238/238 [==============================] - 0s 1ms/step - loss: 0.0013 - mean_absolute_error: 0.0013\n",
      "Epoch 66/100\n",
      "238/238 [==============================] - 0s 2ms/step - loss: 0.0011 - mean_absolute_error: 0.0011\n",
      "Epoch 67/100\n",
      "238/238 [==============================] - 0s 859us/step - loss: 0.0013 - mean_absolute_error: 0.0013\n",
      "Epoch 68/100\n",
      "238/238 [==============================] - 0s 1ms/step - loss: 0.0012 - mean_absolute_error: 0.0012\n",
      "Epoch 69/100\n",
      "238/238 [==============================] - 0s 2ms/step - loss: 0.0011 - mean_absolute_error: 0.0011 \n",
      "Epoch 70/100\n",
      "238/238 [==============================] - 0s 888us/step - loss: 0.0012 - mean_absolute_error: 0.0012\n",
      "Epoch 71/100\n"
     ]
    },
    {
     "name": "stdout",
     "output_type": "stream",
     "text": [
      "238/238 [==============================] - 0s 1ms/step - loss: 0.0010 - mean_absolute_error: 0.0010\n",
      "Epoch 72/100\n",
      "238/238 [==============================] - 0s 711us/step - loss: 9.7153e-04 - mean_absolute_error: 9.7153e-04\n",
      "Epoch 73/100\n",
      "238/238 [==============================] - 0s 2ms/step - loss: 0.0013 - mean_absolute_error: 0.0013 \n",
      "Epoch 74/100\n",
      "238/238 [==============================] - 0s 767us/step - loss: 0.0011 - mean_absolute_error: 0.0011 \n",
      "Epoch 75/100\n",
      "238/238 [==============================] - 0s 859us/step - loss: 0.0013 - mean_absolute_error: 0.0013\n",
      "Epoch 76/100\n",
      "238/238 [==============================] - 0s 1ms/step - loss: 0.0012 - mean_absolute_error: 0.0012\n",
      "Epoch 77/100\n",
      "238/238 [==============================] - 0s 1ms/step - loss: 0.0012 - mean_absolute_error: 0.0012 \n",
      "Epoch 78/100\n",
      "238/238 [==============================] - 0s 2ms/step - loss: 0.0013 - mean_absolute_error: 0.0013\n",
      "Epoch 79/100\n",
      "238/238 [==============================] - 0s 958us/step - loss: 0.0010 - mean_absolute_error: 0.0010\n",
      "Epoch 80/100\n",
      "238/238 [==============================] - 0s 1ms/step - loss: 9.9125e-04 - mean_absolute_error: 9.9125e-04\n",
      "Epoch 81/100\n",
      "238/238 [==============================] - 0s 1ms/step - loss: 0.0011 - mean_absolute_error: 0.0011    \n",
      "Epoch 82/100\n",
      "238/238 [==============================] - 0s 874us/step - loss: 9.0620e-04 - mean_absolute_error: 9.0620e-04\n",
      "Epoch 83/100\n",
      "238/238 [==============================] - 0s 1ms/step - loss: 8.7536e-04 - mean_absolute_error: 8.7536e-04\n",
      "Epoch 84/100\n",
      "238/238 [==============================] - 0s 708us/step - loss: 9.2850e-04 - mean_absolute_error: 9.2850e-04\n",
      "Epoch 85/100\n",
      "238/238 [==============================] - 0s 2ms/step - loss: 0.0014 - mean_absolute_error: 0.0014\n",
      "Epoch 86/100\n",
      "238/238 [==============================] - 0s 1ms/step - loss: 0.0011 - mean_absolute_error: 0.0011 \n",
      "Epoch 87/100\n",
      "238/238 [==============================] - 0s 687us/step - loss: 0.0011 - mean_absolute_error: 0.0011\n",
      "Epoch 88/100\n",
      "238/238 [==============================] - 0s 981us/step - loss: 9.0500e-04 - mean_absolute_error: 9.0500e-04\n",
      "Epoch 89/100\n",
      "238/238 [==============================] - 0s 2ms/step - loss: 0.0011 - mean_absolute_error: 0.0011\n",
      "Epoch 90/100\n",
      "238/238 [==============================] - 0s 912us/step - loss: 9.5801e-04 - mean_absolute_error: 9.5801e-04\n",
      "Epoch 91/100\n",
      "238/238 [==============================] - 0s 809us/step - loss: 9.2288e-04 - mean_absolute_error: 9.2288e-04\n",
      "Epoch 92/100\n",
      "238/238 [==============================] - 0s 1ms/step - loss: 8.7567e-04 - mean_absolute_error: 8.7567e-04\n",
      "Epoch 93/100\n",
      "238/238 [==============================] - 1s 2ms/step - loss: 0.0015 - mean_absolute_error: 0.0015\n",
      "Epoch 94/100\n",
      "238/238 [==============================] - 0s 913us/step - loss: 0.0012 - mean_absolute_error: 0.0012\n",
      "Epoch 95/100\n",
      "238/238 [==============================] - 0s 924us/step - loss: 0.0011 - mean_absolute_error: 0.0011\n",
      "Epoch 96/100\n",
      "238/238 [==============================] - 0s 1ms/step - loss: 0.0010 - mean_absolute_error: 0.0010    \n",
      "Epoch 97/100\n",
      "238/238 [==============================] - 1s 2ms/step - loss: 0.0010 - mean_absolute_error: 0.0010\n",
      "Epoch 98/100\n",
      "238/238 [==============================] - 0s 1ms/step - loss: 9.3065e-04 - mean_absolute_error: 9.3065e-04\n",
      "Epoch 99/100\n",
      "238/238 [==============================] - 0s 2ms/step - loss: 8.4177e-04 - mean_absolute_error: 8.4177e-04\n",
      "Epoch 100/100\n",
      "238/238 [==============================] - 0s 2ms/step - loss: 0.0011 - mean_absolute_error: 0.0011   \n"
     ]
    },
    {
     "data": {
      "text/plain": [
       "<keras.callbacks.callbacks.History at 0x1f0f7876c50>"
      ]
     },
     "execution_count": 69,
     "metadata": {},
     "output_type": "execute_result"
    }
   ],
   "source": [
    "reg_model.fit(X_train_reg, Y_train_reg, epochs=100, batch_size = 10)"
   ]
  },
  {
   "cell_type": "code",
   "execution_count": 70,
   "metadata": {},
   "outputs": [],
   "source": [
    "pred_train_reg = reg_model.predict(X_train_reg)\n",
    "pred_test_reg = reg_model.predict(X_test_reg)"
   ]
  },
  {
   "cell_type": "code",
   "execution_count": 71,
   "metadata": {},
   "outputs": [],
   "source": [
    "as_train, as_test, as_predict_train, as_predict_test = action_signal_mapping(Y_train_reg, Y_test_reg, \n",
    "                                                                             pred_train_reg, pred_test_reg, 0.005)"
   ]
  },
  {
   "cell_type": "code",
   "execution_count": 72,
   "metadata": {},
   "outputs": [],
   "source": [
    "as_train_metrics, as_test_metrics, as_predict_train_metrics , as_predict_test_metrics = metrics_mapping_action_signals(as_train, as_test, as_predict_train, as_predict_test)\n"
   ]
  },
  {
   "cell_type": "code",
   "execution_count": 73,
   "metadata": {},
   "outputs": [],
   "source": [
    "#Generate Confusion Matrices\n",
    "confusion_train_reg = confusion_matrix(as_train_metrics, as_predict_train_metrics)\n",
    "confusion_test_reg = confusion_matrix(as_test_metrics, as_predict_test_metrics)"
   ]
  },
  {
   "cell_type": "code",
   "execution_count": 74,
   "metadata": {},
   "outputs": [
    {
     "data": {
      "image/png": "[encoded data removed]",
      "text/plain": [
       "<Figure size 432x288 with 2 Axes>"
      ]
     },
     "metadata": {
      "needs_background": "light"
     },
     "output_type": "display_data"
    }
   ],
   "source": [
    "#Plot Confusion Matrix for Training Data\n",
    "plot_confusion_matrix(confusion_train_reg, \"Training\")"
   ]
  },
  {
   "cell_type": "code",
   "execution_count": 75,
   "metadata": {},
   "outputs": [
    {
     "data": {
      "image/png": "[encoded data removed]",
      "text/plain": [
       "<Figure size 432x288 with 2 Axes>"
      ]
     },
     "metadata": {
      "needs_background": "light"
     },
     "output_type": "display_data"
    }
   ],
   "source": [
    "#Plot Confusion Matrix for Test Data\n",
    "plot_confusion_matrix(confusion_test_reg, \"Test\")"
   ]
  },
  {
   "cell_type": "code",
   "execution_count": 76,
   "metadata": {},
   "outputs": [
    {
     "data": {
      "text/html": [
       "<div>\n",
       "<style scoped>\n",
       "    .dataframe tbody tr th:only-of-type {\n",
       "        vertical-align: middle;\n",
       "    }\n",
       "\n",
       "    .dataframe tbody tr th {\n",
       "        vertical-align: top;\n",
       "    }\n",
       "\n",
       "    .dataframe thead th {\n",
       "        text-align: right;\n",
       "    }\n",
       "</style>\n",
       "<table border=\"1\" class=\"dataframe\">\n",
       "  <thead>\n",
       "    <tr style=\"text-align: right;\">\n",
       "      <th></th>\n",
       "      <th>Recall</th>\n",
       "      <th>Precision</th>\n",
       "      <th>F1 Score</th>\n",
       "      <th>Accuracy</th>\n",
       "    </tr>\n",
       "    <tr>\n",
       "      <th>Dataset</th>\n",
       "      <th></th>\n",
       "      <th></th>\n",
       "      <th></th>\n",
       "      <th></th>\n",
       "    </tr>\n",
       "  </thead>\n",
       "  <tbody>\n",
       "    <tr>\n",
       "      <th>Training</th>\n",
       "      <td>1.000000</td>\n",
       "      <td>1.000000</td>\n",
       "      <td>1.000000</td>\n",
       "      <td>1.000000</td>\n",
       "    </tr>\n",
       "    <tr>\n",
       "      <th>Test</th>\n",
       "      <td>0.530612</td>\n",
       "      <td>0.634146</td>\n",
       "      <td>0.577778</td>\n",
       "      <td>0.577778</td>\n",
       "    </tr>\n",
       "  </tbody>\n",
       "</table>\n",
       "</div>"
      ],
      "text/plain": [
       "            Recall  Precision  F1 Score  Accuracy\n",
       "Dataset                                          \n",
       "Training  1.000000   1.000000  1.000000  1.000000\n",
       "Test      0.530612   0.634146  0.577778  0.577778"
      ]
     },
     "execution_count": 76,
     "metadata": {},
     "output_type": "execute_result"
    }
   ],
   "source": [
    "#Calculate Metrics\n",
    "table_reg = create_metrics_table(as_train_metrics, as_predict_train_metrics, as_test_metrics, as_predict_test_metrics)\n",
    "table_reg"
   ]
  }
 ],
 "metadata": {
  "kernelspec": {
   "display_name": "Python 3",
   "language": "python",
   "name": "python3"
  },
  "language_info": {
   "codemirror_mode": {
    "name": "ipython",
    "version": 3
   },
   "file_extension": ".py",
   "mimetype": "text/x-python",
   "name": "python",
   "nbconvert_exporter": "python",
   "pygments_lexer": "ipython3",
   "version": "3.7.3"
  }
 },
 "nbformat": 4,
 "nbformat_minor": 4
}
