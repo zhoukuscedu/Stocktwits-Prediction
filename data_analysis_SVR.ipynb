{
 "cells": [
  {
   "cell_type": "markdown",
   "metadata": {},
   "source": [
    "# Preprocessing"
   ]
  },
  {
   "cell_type": "code",
   "execution_count": 1,
   "metadata": {},
   "outputs": [
    {
     "name": "stderr",
     "output_type": "stream",
     "text": [
      "Using TensorFlow backend.\n",
      "C:\\Anaconda3\\lib\\site-packages\\tensorflow\\python\\framework\\dtypes.py:516: FutureWarning: Passing (type, 1) or '1type' as a synonym of type is deprecated; in a future version of numpy, it will be understood as (type, (1,)) / '(1,)type'.\n",
      "  _np_qint8 = np.dtype([(\"qint8\", np.int8, 1)])\n",
      "C:\\Anaconda3\\lib\\site-packages\\tensorflow\\python\\framework\\dtypes.py:517: FutureWarning: Passing (type, 1) or '1type' as a synonym of type is deprecated; in a future version of numpy, it will be understood as (type, (1,)) / '(1,)type'.\n",
      "  _np_quint8 = np.dtype([(\"quint8\", np.uint8, 1)])\n",
      "C:\\Anaconda3\\lib\\site-packages\\tensorflow\\python\\framework\\dtypes.py:518: FutureWarning: Passing (type, 1) or '1type' as a synonym of type is deprecated; in a future version of numpy, it will be understood as (type, (1,)) / '(1,)type'.\n",
      "  _np_qint16 = np.dtype([(\"qint16\", np.int16, 1)])\n",
      "C:\\Anaconda3\\lib\\site-packages\\tensorflow\\python\\framework\\dtypes.py:519: FutureWarning: Passing (type, 1) or '1type' as a synonym of type is deprecated; in a future version of numpy, it will be understood as (type, (1,)) / '(1,)type'.\n",
      "  _np_quint16 = np.dtype([(\"quint16\", np.uint16, 1)])\n",
      "C:\\Anaconda3\\lib\\site-packages\\tensorflow\\python\\framework\\dtypes.py:520: FutureWarning: Passing (type, 1) or '1type' as a synonym of type is deprecated; in a future version of numpy, it will be understood as (type, (1,)) / '(1,)type'.\n",
      "  _np_qint32 = np.dtype([(\"qint32\", np.int32, 1)])\n",
      "C:\\Anaconda3\\lib\\site-packages\\tensorflow\\python\\framework\\dtypes.py:525: FutureWarning: Passing (type, 1) or '1type' as a synonym of type is deprecated; in a future version of numpy, it will be understood as (type, (1,)) / '(1,)type'.\n",
      "  np_resource = np.dtype([(\"resource\", np.ubyte, 1)])\n",
      "C:\\Anaconda3\\lib\\site-packages\\tensorboard\\compat\\tensorflow_stub\\dtypes.py:541: FutureWarning: Passing (type, 1) or '1type' as a synonym of type is deprecated; in a future version of numpy, it will be understood as (type, (1,)) / '(1,)type'.\n",
      "  _np_qint8 = np.dtype([(\"qint8\", np.int8, 1)])\n",
      "C:\\Anaconda3\\lib\\site-packages\\tensorboard\\compat\\tensorflow_stub\\dtypes.py:542: FutureWarning: Passing (type, 1) or '1type' as a synonym of type is deprecated; in a future version of numpy, it will be understood as (type, (1,)) / '(1,)type'.\n",
      "  _np_quint8 = np.dtype([(\"quint8\", np.uint8, 1)])\n",
      "C:\\Anaconda3\\lib\\site-packages\\tensorboard\\compat\\tensorflow_stub\\dtypes.py:543: FutureWarning: Passing (type, 1) or '1type' as a synonym of type is deprecated; in a future version of numpy, it will be understood as (type, (1,)) / '(1,)type'.\n",
      "  _np_qint16 = np.dtype([(\"qint16\", np.int16, 1)])\n",
      "C:\\Anaconda3\\lib\\site-packages\\tensorboard\\compat\\tensorflow_stub\\dtypes.py:544: FutureWarning: Passing (type, 1) or '1type' as a synonym of type is deprecated; in a future version of numpy, it will be understood as (type, (1,)) / '(1,)type'.\n",
      "  _np_quint16 = np.dtype([(\"quint16\", np.uint16, 1)])\n",
      "C:\\Anaconda3\\lib\\site-packages\\tensorboard\\compat\\tensorflow_stub\\dtypes.py:545: FutureWarning: Passing (type, 1) or '1type' as a synonym of type is deprecated; in a future version of numpy, it will be understood as (type, (1,)) / '(1,)type'.\n",
      "  _np_qint32 = np.dtype([(\"qint32\", np.int32, 1)])\n",
      "C:\\Anaconda3\\lib\\site-packages\\tensorboard\\compat\\tensorflow_stub\\dtypes.py:550: FutureWarning: Passing (type, 1) or '1type' as a synonym of type is deprecated; in a future version of numpy, it will be understood as (type, (1,)) / '(1,)type'.\n",
      "  np_resource = np.dtype([(\"resource\", np.ubyte, 1)])\n"
     ]
    }
   ],
   "source": [
    "%run project_functions.ipynb"
   ]
  },
  {
   "cell_type": "code",
   "execution_count": 16,
   "metadata": {},
   "outputs": [],
   "source": [
    "file_name = 'FB.json'\n",
    "csv_name = 'FB.csv'"
   ]
  },
  {
   "cell_type": "code",
   "execution_count": 3,
   "metadata": {},
   "outputs": [],
   "source": [
    "#Features\n",
    "company = stock_twits_text_parser(file_name)\n",
    "company_metrics = stock_twits_metrics(company, 3, file_name)\n",
    "\n",
    "#Labels\n",
    "company_return = return_over_period_T(csv_name,3)\n",
    "\n",
    "#Cleaned Data\n",
    "agg_data = feature_selector(company_metrics, company_return, 'close_return', 25, 1000)\n",
    "company_data = split_data(agg_data, 0.7, 'all', 'close_return', 'cont')\n",
    "\n",
    "#Split\n",
    "X_train = company_data['X_train']\n",
    "Y_train = company_data['Y_train']\n",
    "X_test = company_data['X_test']\n",
    "Y_test = company_data['Y_test']\n",
    "\n",
    "#Define Values for SVR Parameters\n",
    "degrees = [2,3,4,5,6,7,8]\n",
    "reg_vals = [1e-5, 1e-4, 1e-3, 1e-2, 1e-1, 1, 1e1, 1e2, 1e3, 1e4, 1e5]\n",
    "\n"
   ]
  },
  {
   "cell_type": "code",
   "execution_count": null,
   "metadata": {},
   "outputs": [],
   "source": []
  },
  {
   "cell_type": "code",
   "execution_count": 4,
   "metadata": {},
   "outputs": [
    {
     "name": "stdout",
     "output_type": "stream",
     "text": [
      "Best Parameters: \n",
      "{'C': 0.01, 'degree': 2, 'kernel': 'rbf'}\n",
      "Ignore degree value if kernel is not 'poly' \n"
     ]
    }
   ],
   "source": [
    "# Find best model\n",
    "model = get_best_SVR(model_type = 'all', alphas = reg_vals, degrees = degrees, folds = 5, X_train = X_train, Y_train = Y_train)\n",
    "\n",
    "# training and test predictions\n",
    "pred_train_svr = model.predict(X_train)\n",
    "pred_test_svr = model.predict(X_test)\n",
    "\n"
   ]
  },
  {
   "cell_type": "code",
   "execution_count": 5,
   "metadata": {},
   "outputs": [
    {
     "data": {
      "text/plain": [
       "0     -0.001572\n",
       "1      0.000413\n",
       "2      0.011044\n",
       "3     -0.013433\n",
       "4     -0.029384\n",
       "         ...   \n",
       "233    0.018558\n",
       "234    0.048729\n",
       "235    0.013221\n",
       "236    0.000350\n",
       "237    0.021176\n",
       "Name: close_return, Length: 238, dtype: float64"
      ]
     },
     "execution_count": 5,
     "metadata": {},
     "output_type": "execute_result"
    }
   ],
   "source": [
    "Y_train"
   ]
  },
  {
   "cell_type": "code",
   "execution_count": 6,
   "metadata": {},
   "outputs": [
    {
     "data": {
      "text/plain": [
       "array([ 1.26309332e-03,  1.27660570e-03,  2.02792666e-02,  2.73355938e-03,\n",
       "        1.84765905e-02,  1.41555409e-03,  3.84341786e-04,  1.78105069e-02,\n",
       "        1.97781588e-03,  3.79310787e-03,  1.82197046e-03,  1.35859851e-03,\n",
       "        1.96099847e-02,  1.19466545e-03,  1.28760269e-03,  8.67568943e-04,\n",
       "        1.07805563e-03,  1.44890887e-02,  4.27655645e-03,  1.12003434e-03,\n",
       "        1.17785736e-03,  1.18901467e-03,  2.04251771e-02,  2.60517437e-04,\n",
       "        8.31845913e-04,  2.77409051e-03,  8.38498809e-04,  1.62946188e-02,\n",
       "        2.71721585e-03,  8.79280345e-04,  7.63155101e-04,  9.98056774e-04,\n",
       "        1.87639836e-02,  5.22227198e-03,  5.31826757e-04,  7.70677136e-04,\n",
       "        7.40829679e-03,  2.37535366e-03,  8.64279350e-04,  2.23690630e-03,\n",
       "        8.84822847e-04,  2.02162646e-02,  2.28091551e-03,  1.03046083e-03,\n",
       "        2.04821017e-03,  3.56463898e-04,  1.72395669e-02,  6.62585397e-04,\n",
       "        1.04474848e-03,  7.41803428e-04,  1.33914628e-03,  1.83515743e-02,\n",
       "        1.16708855e-03,  3.31358022e-03,  1.37510246e-03,  9.70330580e-04,\n",
       "        1.85613107e-02,  1.28648181e-03,  8.08301679e-04,  3.03314248e-03,\n",
       "        1.12262106e-03,  1.80560171e-02,  5.59637438e-03,  3.88542522e-04,\n",
       "        1.07056397e-02,  7.87807116e-04,  2.00441378e-02,  1.04118082e-03,\n",
       "        1.78751579e-03,  1.75290341e-03,  3.33038268e-03,  1.67016263e-02,\n",
       "        1.45111213e-03,  2.35907163e-02,  1.58907137e-03,  3.40841927e-04,\n",
       "        1.83048106e-02,  1.99672562e-03,  1.58321569e-03,  1.69657774e-03,\n",
       "        2.32611613e-03,  2.03937188e-02,  2.38824885e-04,  1.07336509e-03,\n",
       "        1.22841168e-03,  1.37396401e-03,  1.81035686e-02,  2.34418642e-03,\n",
       "        8.81423135e-04,  5.47134869e-03,  2.05288229e-02,  4.71485091e-03,\n",
       "        3.06023124e-04,  7.40748608e-04,  6.35816627e-04,  1.17865173e-02,\n",
       "        3.63799761e-03,  1.10612981e-03,  1.22960664e-03,  1.67956585e-03,\n",
       "        2.03617363e-02,  5.95785725e-04,  1.54841742e-03,  1.29189837e-03,\n",
       "        5.65519709e-04,  1.43914522e-02,  1.72940659e-03,  2.23342310e-03,\n",
       "        8.04711658e-04,  1.25931156e-02,  5.71035185e-03,  4.56276570e-04,\n",
       "        1.14069662e-03,  1.83540499e-02,  3.46165391e-04,  4.02845188e-03,\n",
       "        4.44814722e-03,  5.38764862e-04,  1.85853746e-02,  9.82415929e-04,\n",
       "        3.82808583e-03,  1.24239588e-03,  7.38525381e-04,  6.50893588e-03,\n",
       "        3.69948896e-03,  3.23981101e-04,  1.15872195e-03,  1.60845869e-02,\n",
       "        1.74880608e-03,  2.50862297e-02,  8.44431085e-03, -9.45772728e-05,\n",
       "        1.80742816e-02,  3.49110771e-03,  1.88840078e-04,  8.96033751e-04,\n",
       "        2.96516409e-03,  1.77455881e-02,  6.97466569e-04,  1.17392032e-03,\n",
       "        1.04636744e-03,  1.68893970e-03,  1.58592119e-02,  4.42692403e-04,\n",
       "        4.83133423e-04,  2.34648635e-03,  1.99957869e-02,  4.95489829e-04,\n",
       "        3.09941124e-03,  9.88997665e-04,  9.78534524e-04,  1.66241882e-02,\n",
       "        1.41495116e-03,  1.60742032e-03,  1.19116167e-03,  8.61496727e-04,\n",
       "        2.00127907e-02,  6.43043039e-04,  7.74906856e-04,  7.84491920e-04,\n",
       "        1.09995324e-03,  1.81512691e-02,  6.39724529e-04,  2.88501623e-03,\n",
       "        7.09861305e-04,  1.31184802e-03,  1.41641680e-02,  1.70172588e-03,\n",
       "        1.56179933e-03,  8.25001321e-04,  2.01780906e-02,  4.98823737e-03,\n",
       "        1.15614480e-03,  6.05456797e-04,  1.24572362e-03,  1.63810597e-02,\n",
       "        2.62060853e-04,  1.12086474e-03,  8.32495928e-04,  6.50840919e-03,\n",
       "        1.93664847e-02,  1.24701230e-03,  1.66877010e-02,  2.52378717e-04,\n",
       "        1.15442687e-03,  1.96746305e-02,  3.05725874e-03,  1.24828664e-03,\n",
       "        2.25488106e-03,  2.48905331e-03,  1.78916541e-02,  6.25772910e-03,\n",
       "        1.97008809e-02,  4.02460751e-03,  7.19357876e-04,  1.62630972e-02,\n",
       "        1.73034914e-03,  2.58589211e-03,  1.91942515e-03,  2.62534776e-03,\n",
       "        1.69468546e-02,  2.15326681e-03,  8.41647830e-04,  7.14988376e-04,\n",
       "        7.87230854e-04,  1.79477377e-02,  5.44489076e-04,  2.26851930e-03,\n",
       "        7.69825046e-04,  6.04687657e-04,  1.73939507e-02,  1.23903383e-03,\n",
       "        1.01716135e-03,  7.95625463e-04,  5.87939831e-04,  1.99517677e-02,\n",
       "        1.35022488e-03,  8.63778293e-04,  1.21631373e-03,  1.84299123e-02,\n",
       "        2.78590486e-03,  2.13744203e-04,  7.52826427e-04,  1.66295874e-03,\n",
       "        1.49281398e-02,  3.02059421e-04,  6.40905291e-04,  5.37011609e-04,\n",
       "        8.25778677e-04,  1.98813572e-02,  3.17562048e-03,  7.00437095e-04,\n",
       "        7.19220864e-04,  2.81602683e-03,  1.91465056e-02,  7.84582855e-04,\n",
       "        6.18646873e-04,  1.42924569e-03])"
      ]
     },
     "execution_count": 6,
     "metadata": {},
     "output_type": "execute_result"
    }
   ],
   "source": [
    "pred_train_svr"
   ]
  },
  {
   "cell_type": "markdown",
   "metadata": {},
   "source": [
    "# Action Signal Mapping\n",
    "\n",
    "- 1 = Positive Action\n",
    "- 0 = No Action\n",
    "- -1 = Negative Action"
   ]
  },
  {
   "cell_type": "code",
   "execution_count": 7,
   "metadata": {},
   "outputs": [],
   "source": [
    "threshold = .001\n",
    "\n",
    "\n",
    "action_signal_train = np.copy(Y_train)\n",
    "action_signal_train[action_signal_train < -1*threshold] = -1\n",
    "action_signal_train[action_signal_train > threshold] = 1\n",
    "action_signal_train[np.abs(action_signal_train) <= threshold] = 0\n",
    "\n",
    "action_signal_test = np.copy(Y_test)\n",
    "action_signal_test[action_signal_test < -1*threshold] = -1\n",
    "action_signal_test[action_signal_test > threshold] = 1\n",
    "action_signal_test[np.abs(action_signal_test) <= threshold] = 0\n",
    "\n",
    "action_signal_predict_train = np.copy(pred_train_svr)\n",
    "action_signal_predict_train[action_signal_predict_train < -1*threshold] = -1\n",
    "action_signal_predict_train[action_signal_predict_train > threshold] = 1\n",
    "action_signal_predict_train[np.abs(action_signal_predict_train) <= threshold] = 0\n",
    "\n",
    "action_signal_predict_test = np.copy(pred_test_svr)\n",
    "action_signal_predict_test[action_signal_predict_test < -1*threshold] = -1\n",
    "action_signal_predict_test[action_signal_predict_test > threshold] = 1\n",
    "action_signal_predict_test[np.abs(action_signal_predict_test) <= threshold] = 0\n",
    "\n"
   ]
  },
  {
   "cell_type": "code",
   "execution_count": 8,
   "metadata": {},
   "outputs": [
    {
     "data": {
      "text/plain": [
       "array([-1.,  0.,  1., -1., -1., -1.,  1.,  1.,  1., -1., -1., -1., -1.,\n",
       "        1., -1.,  1.,  1., -1., -1., -1., -1.,  1.,  1.,  1.,  1., -1.,\n",
       "       -1., -1.,  1., -1.,  1.,  1.,  1.,  1.,  1.,  1.,  1.,  1.,  1.,\n",
       "       -1., -1., -1., -1., -1., -1., -1.,  1.,  1.,  1.,  1.,  1., -1.,\n",
       "        1.,  1.,  1.,  1.,  1.,  1.,  1.,  1., -1.,  1.,  1.,  1.,  1.,\n",
       "        1.,  1., -1., -1., -1.,  1.,  1.,  1.,  1., -1.,  1.,  1., -1.,\n",
       "       -1., -1.,  1.,  1.,  1., -1., -1., -1., -1., -1.,  1.,  1.,  1.,\n",
       "       -1., -1.,  1., -1., -1., -1.,  0., -1.,  1.,  1., -1., -1., -1.,\n",
       "        1.,  1.,  1.,  1.,  1., -1., -1., -1., -1., -1., -1., -1.,  1.,\n",
       "       -1.,  1., -1., -1., -1., -1.,  1.,  1.,  1., -1.,  1.,  1.,  1.,\n",
       "        1.,  1., -1., -1., -1., -1., -1.,  1.,  1.,  1.,  1.,  1.,  1.,\n",
       "        1.,  1.,  1.,  1.,  1.,  0.,  1.,  1.,  1., -1., -1., -1., -1.,\n",
       "        1.,  1.,  1.,  1.,  1.,  1.,  1., -1.,  1.,  1.,  1.,  1.,  1.,\n",
       "        1.,  1.,  0., -1., -1., -1.,  1., -1., -1., -1., -1.,  1., -1.,\n",
       "        0.,  1.,  1.,  1., -1., -1., -1., -1.,  1.,  1.,  1.,  1.,  1.,\n",
       "       -1.,  1.,  1.,  1.,  0.,  1., -1., -1., -1., -1., -1.,  0., -1.,\n",
       "        1.,  1.,  1.,  1.,  1., -1., -1., -1.,  0., -1.,  0., -1., -1.,\n",
       "       -1., -1., -1.,  1., -1., -1.,  0.,  1.,  1., -1., -1., -1.,  1.,\n",
       "        1.,  1.,  0.,  1.])"
      ]
     },
     "execution_count": 8,
     "metadata": {},
     "output_type": "execute_result"
    }
   ],
   "source": [
    "action_signal_train"
   ]
  },
  {
   "cell_type": "code",
   "execution_count": 9,
   "metadata": {},
   "outputs": [
    {
     "data": {
      "text/plain": [
       "array([1., 1., 1., 1., 1., 1., 0., 1., 1., 1., 1., 1., 1., 1., 1., 0., 1.,\n",
       "       1., 1., 1., 1., 1., 1., 0., 0., 1., 0., 1., 1., 0., 0., 0., 1., 1.,\n",
       "       0., 0., 1., 1., 0., 1., 0., 1., 1., 1., 1., 0., 1., 0., 1., 0., 1.,\n",
       "       1., 1., 1., 1., 0., 1., 1., 0., 1., 1., 1., 1., 0., 1., 0., 1., 1.,\n",
       "       1., 1., 1., 1., 1., 1., 1., 0., 1., 1., 1., 1., 1., 1., 0., 1., 1.,\n",
       "       1., 1., 1., 0., 1., 1., 1., 0., 0., 0., 1., 1., 1., 1., 1., 1., 0.,\n",
       "       1., 1., 0., 1., 1., 1., 0., 1., 1., 0., 1., 1., 0., 1., 1., 0., 1.,\n",
       "       0., 1., 1., 0., 1., 1., 0., 1., 1., 1., 1., 1., 0., 1., 1., 0., 0.,\n",
       "       1., 1., 0., 1., 1., 1., 1., 0., 0., 1., 1., 0., 1., 0., 0., 1., 1.,\n",
       "       1., 1., 0., 1., 0., 0., 0., 1., 1., 0., 1., 0., 1., 1., 1., 1., 0.,\n",
       "       1., 1., 1., 0., 1., 1., 0., 1., 0., 1., 1., 1., 1., 0., 1., 1., 1.,\n",
       "       1., 1., 1., 1., 1., 1., 1., 0., 1., 1., 1., 1., 1., 1., 1., 0., 0.,\n",
       "       0., 1., 0., 1., 0., 0., 1., 1., 1., 0., 0., 1., 1., 0., 1., 1., 1.,\n",
       "       0., 0., 1., 1., 0., 0., 0., 0., 1., 1., 0., 0., 1., 1., 0., 0., 1.])"
      ]
     },
     "execution_count": 9,
     "metadata": {},
     "output_type": "execute_result"
    }
   ],
   "source": [
    "action_signal_predict_train"
   ]
  },
  {
   "cell_type": "markdown",
   "metadata": {},
   "source": [
    "# Classification Metrics\n",
    "\n",
    "- Note: The cases detected as no action are not considered in these metrics"
   ]
  },
  {
   "cell_type": "code",
   "execution_count": 10,
   "metadata": {},
   "outputs": [],
   "source": [
    "action_signal_train_metrics = np.empty((action_signal_train.shape))\n",
    "action_signal_test_metrics = np.empty((action_signal_test.shape))\n",
    "action_signal_predict_train_metrics = np.empty((action_signal_predict_train.shape))\n",
    "action_signal_predict_test_metrics = np.empty((action_signal_predict_test.shape))\n",
    "\n",
    "train_len = action_signal_train.shape[0]\n",
    "test_len = action_signal_test.shape[0]\n",
    "\n",
    "for i in range(0, train_len):\n",
    "    if (np.abs(action_signal_train[i] + action_signal_predict_train[i]) == 1) or (action_signal_train[i] == 0 and action_signal_predict_train[i] == 0):\n",
    "        action_signal_train_metrics[i] = 0\n",
    "        action_signal_predict_train_metrics[i] = 0\n",
    "    else:\n",
    "        action_signal_train_metrics[i] = action_signal_train[i]\n",
    "        action_signal_predict_train_metrics[i] = action_signal_predict_train[i]\n",
    "\n",
    "\n",
    "\n",
    "for j in range(0, test_len):\n",
    "    if (np.abs(action_signal_test[j] + action_signal_predict_test[j]) == 1) or (action_signal_test[j] == 0 and action_signal_predict_test[j] == 0):\n",
    "        action_signal_test_metrics[j] = 0\n",
    "        action_signal_predict_test_metrics[j] = 0\n",
    "    else:\n",
    "        action_signal_test_metrics[j] = action_signal_test[j]\n",
    "        action_signal_predict_test_metrics[j] = action_signal_predict_test[j]\n",
    "\n"
   ]
  },
  {
   "cell_type": "code",
   "execution_count": 11,
   "metadata": {},
   "outputs": [],
   "source": [
    "action_signal_train_metrics =  action_signal_train_metrics[action_signal_train_metrics != 0]\n",
    "action_signal_test_metrics =  action_signal_test_metrics[action_signal_test_metrics != 0]\n",
    "action_signal_predict_train_metrics = action_signal_predict_train_metrics[action_signal_predict_train_metrics != 0]\n",
    "action_signal_predict_test_metrics = action_signal_predict_test_metrics[action_signal_predict_test_metrics != 0]"
   ]
  },
  {
   "cell_type": "code",
   "execution_count": null,
   "metadata": {},
   "outputs": [],
   "source": []
  },
  {
   "cell_type": "code",
   "execution_count": null,
   "metadata": {},
   "outputs": [],
   "source": []
  },
  {
   "cell_type": "code",
   "execution_count": 12,
   "metadata": {},
   "outputs": [],
   "source": [
    "cm_action_signal_train = confusion_matrix(action_signal_train_metrics,action_signal_predict_train_metrics)\n",
    "cm_action_signal_test = confusion_matrix(action_signal_test_metrics,action_signal_predict_test_metrics)"
   ]
  },
  {
   "cell_type": "code",
   "execution_count": 13,
   "metadata": {},
   "outputs": [
    {
     "data": {
      "image/png": "[encoded data removed]",
      "text/plain": [
       "<Figure size 432x288 with 2 Axes>"
      ]
     },
     "metadata": {
      "needs_background": "light"
     },
     "output_type": "display_data"
    }
   ],
   "source": [
    "plot_confusion_matrix(cm_action_signal_train, \"Training\")"
   ]
  },
  {
   "cell_type": "code",
   "execution_count": 14,
   "metadata": {},
   "outputs": [
    {
     "data": {
      "image/png": "[encoded data removed]",
      "text/plain": [
       "<Figure size 432x288 with 2 Axes>"
      ]
     },
     "metadata": {
      "needs_background": "light"
     },
     "output_type": "display_data"
    }
   ],
   "source": [
    "plot_confusion_matrix(cm_action_signal_test, \"Test\")"
   ]
  },
  {
   "cell_type": "code",
   "execution_count": 15,
   "metadata": {},
   "outputs": [
    {
     "data": {
      "text/html": [
       "<div>\n",
       "<style scoped>\n",
       "    .dataframe tbody tr th:only-of-type {\n",
       "        vertical-align: middle;\n",
       "    }\n",
       "\n",
       "    .dataframe tbody tr th {\n",
       "        vertical-align: top;\n",
       "    }\n",
       "\n",
       "    .dataframe thead th {\n",
       "        text-align: right;\n",
       "    }\n",
       "</style>\n",
       "<table border=\"1\" class=\"dataframe\">\n",
       "  <thead>\n",
       "    <tr style=\"text-align: right;\">\n",
       "      <th></th>\n",
       "      <th>Recall</th>\n",
       "      <th>Precision</th>\n",
       "      <th>F1 Score</th>\n",
       "      <th>Accuracy</th>\n",
       "    </tr>\n",
       "    <tr>\n",
       "      <th>Dataset</th>\n",
       "      <th></th>\n",
       "      <th></th>\n",
       "      <th></th>\n",
       "      <th></th>\n",
       "    </tr>\n",
       "  </thead>\n",
       "  <tbody>\n",
       "    <tr>\n",
       "      <th>Training</th>\n",
       "      <td>1.0</td>\n",
       "      <td>0.532051</td>\n",
       "      <td>0.694561</td>\n",
       "      <td>0.532051</td>\n",
       "    </tr>\n",
       "    <tr>\n",
       "      <th>Test</th>\n",
       "      <td>1.0</td>\n",
       "      <td>0.507692</td>\n",
       "      <td>0.673469</td>\n",
       "      <td>0.507692</td>\n",
       "    </tr>\n",
       "  </tbody>\n",
       "</table>\n",
       "</div>"
      ],
      "text/plain": [
       "          Recall  Precision  F1 Score  Accuracy\n",
       "Dataset                                        \n",
       "Training     1.0   0.532051  0.694561  0.532051\n",
       "Test         1.0   0.507692  0.673469  0.507692"
      ]
     },
     "execution_count": 15,
     "metadata": {},
     "output_type": "execute_result"
    }
   ],
   "source": [
    "table = create_metrics_table(action_signal_train_metrics, action_signal_predict_train_metrics, action_signal_test_metrics, action_signal_predict_test_metrics)\n",
    "table\n"
   ]
  }
 ],
 "metadata": {
  "kernelspec": {
   "display_name": "Python 3",
   "language": "python",
   "name": "python3"
  },
  "language_info": {
   "codemirror_mode": {
    "name": "ipython",
    "version": 3
   },
   "file_extension": ".py",
   "mimetype": "text/x-python",
   "name": "python",
   "nbconvert_exporter": "python",
   "pygments_lexer": "ipython3",
   "version": "3.7.6"
  }
 },
 "nbformat": 4,
 "nbformat_minor": 4
}
