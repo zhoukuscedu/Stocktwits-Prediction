{
 "cells": [
  {
   "cell_type": "code",
   "execution_count": 1,
   "metadata": {},
   "outputs": [
    {
     "name": "stderr",
     "output_type": "stream",
     "text": [
      "Using TensorFlow backend.\n"
     ]
    }
   ],
   "source": [
    "%run project_functions.ipynb"
   ]
  },
  {
   "cell_type": "code",
   "execution_count": 2,
   "metadata": {},
   "outputs": [],
   "source": []
  },
  {
   "cell_type": "code",
   "execution_count": 3,
   "metadata": {},
   "outputs": [
    {
     "name": "stdout",
     "output_type": "stream",
     "text": [
      "SVC Test Accuracy: 0.7524752475247525\n",
      "L1 Test Accuracy: 0.7128712871287128\n",
      "L2 Test Accuracy: 0.7128712871287128\n",
      "Random Forest Test Accuracy: 0.6633663366336634\n",
      "Extra Trees Test Accuracy: 0.7623762376237624\n",
      "Neural Network Test Accuracy: 0.7722772359848022\n",
      "Best Model: Neural Network\n",
      "SVC Test Accuracy: 0.6071428571428571\n",
      "L1 Test Accuracy: 0.5535714285714286\n",
      "L2 Test Accuracy: 0.59375\n",
      "Random Forest Test Accuracy: 0.5446428571428571\n",
      "Extra Trees Test Accuracy: 0.48214285714285715\n",
      "Neural Network Test Accuracy: 0.5758928656578064\n",
      "Best Model: SVC\n",
      "SVC Test Accuracy: 0.6322869955156951\n",
      "L1 Test Accuracy: 0.6278026905829597\n",
      "L2 Test Accuracy: 0.6322869955156951\n",
      "Random Forest Test Accuracy: 0.57847533632287\n",
      "Extra Trees Test Accuracy: 0.6143497757847534\n",
      "Neural Network Test Accuracy: 0.5874439477920532\n",
      "Best Model: SVC\n",
      "SVC Test Accuracy: 0.5381165919282511\n",
      "L1 Test Accuracy: 0.5112107623318386\n",
      "L2 Test Accuracy: 0.4977578475336323\n",
      "Random Forest Test Accuracy: 0.5022421524663677\n",
      "Extra Trees Test Accuracy: 0.484304932735426\n",
      "Neural Network Test Accuracy: 0.49775785207748413\n",
      "Best Model: SVC\n",
      "SVC Test Accuracy: 0.5964125560538116\n",
      "L1 Test Accuracy: 0.6143497757847534\n",
      "L2 Test Accuracy: 0.600896860986547\n",
      "Random Forest Test Accuracy: 0.4798206278026906\n",
      "Extra Trees Test Accuracy: 0.5246636771300448\n",
      "Neural Network Test Accuracy: 0.5112107396125793\n",
      "Best Model: L1\n",
      "SVC Test Accuracy: 0.6547085201793722\n",
      "L1 Test Accuracy: 0.6053811659192825\n",
      "L2 Test Accuracy: 0.6591928251121076\n",
      "Random Forest Test Accuracy: 0.6412556053811659\n",
      "Extra Trees Test Accuracy: 0.6143497757847534\n",
      "Neural Network Test Accuracy: 0.6502242088317871\n",
      "Best Model: L2\n"
     ]
    }
   ],
   "source": [
    "portfolio = ['FB', 'BA', 'NKE', 'GE', 'CSCO', 'MSFT']\n",
    "algo = 'optimal'\n",
    "capital = 120000\n",
    "metric = 'close'\n",
    "num_features = 500\n",
    "period = 6\n",
    "\n",
    "capital = trade_portfolio(stock_portfolio = portfolio, algo_of_choice = algo, capital = capital , metric = metric, num_features = num_features, period = period)"
   ]
  },
  {
   "cell_type": "code",
   "execution_count": 4,
   "metadata": {},
   "outputs": [
    {
     "data": {
      "text/plain": [
       "{'FB': 20232.338826584302,\n",
       " 'BA': 21047.188947692222,\n",
       " 'NKE': 20565.95880077739,\n",
       " 'GE': 21362.195516869968,\n",
       " 'CSCO': 23037.00133733679,\n",
       " 'MSFT': 23319.986854405393}"
      ]
     },
     "execution_count": 4,
     "metadata": {},
     "output_type": "execute_result"
    }
   ],
   "source": [
    "capital"
   ]
  },
  {
   "cell_type": "code",
   "execution_count": 5,
   "metadata": {},
   "outputs": [],
   "source": [
    "total_cap = sum(capital.values())"
   ]
  },
  {
   "cell_type": "code",
   "execution_count": 6,
   "metadata": {},
   "outputs": [
    {
     "data": {
      "text/plain": [
       "129564.67028366607"
      ]
     },
     "execution_count": 6,
     "metadata": {},
     "output_type": "execute_result"
    }
   ],
   "source": [
    "total_cap"
   ]
  },
  {
   "cell_type": "code",
   "execution_count": null,
   "metadata": {},
   "outputs": [],
   "source": []
  }
 ],
 "metadata": {
  "kernelspec": {
   "display_name": "Python 3",
   "language": "python",
   "name": "python3"
  },
  "language_info": {
   "codemirror_mode": {
    "name": "ipython",
    "version": 3
   },
   "file_extension": ".py",
   "mimetype": "text/x-python",
   "name": "python",
   "nbconvert_exporter": "python",
   "pygments_lexer": "ipython3",
   "version": "3.7.6"
  }
 },
 "nbformat": 4,
 "nbformat_minor": 4
}
